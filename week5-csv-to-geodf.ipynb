{
 "cells": [
  {
   "cell_type": "markdown",
   "id": "e0e33a0c-05c1-4d2d-9f3a-1d40d2e6d685",
   "metadata": {},
   "source": [
    "## CSV to `GeoDataFrame`\n",
    "\n",
    "Leet's start importing packages and updating viewing options:"
   ]
  },
  {
   "cell_type": "code",
   "execution_count": null,
   "id": "33324d0c-0de5-4153-b463-793cf793f69a",
   "metadata": {},
   "outputs": [],
   "source": [
    "import os\n",
    "\n",
    "import pandas as pd\n",
    "from"
   ]
  }
 ],
 "metadata": {
  "kernelspec": {
   "display_name": "Anaconda 3 (Base)",
   "language": "python",
   "name": "base"
  },
  "language_info": {
   "codemirror_mode": {
    "name": "ipython",
    "version": 3
   },
   "file_extension": ".py",
   "mimetype": "text/x-python",
   "name": "python",
   "nbconvert_exporter": "python",
   "pygments_lexer": "ipython3",
   "version": "3.9.13"
  }
 },
 "nbformat": 4,
 "nbformat_minor": 5
}
