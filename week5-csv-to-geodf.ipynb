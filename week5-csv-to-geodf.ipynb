{
 "cells": [
  {
   "cell_type": "markdown",
   "id": "f53d7009-2355-4705-91c0-0343c578d5cd",
   "metadata": {},
   "source": [
    "# CSV to geodf"
   ]
  },
  {
   "cell_type": "code",
   "execution_count": 94,
   "id": "a84590a3-3b5a-4703-8342-0ffd9b33ee4c",
   "metadata": {
    "tags": []
   },
   "outputs": [],
   "source": [
    "import os\n",
    "\n",
    "import pandas as pd\n",
    "from pandas.api.types import is_string_dtype, is_numeric_dtype\n",
    "import geopandas as gpd\n",
    "import matplotlib.pyplot as plt"
   ]
  },
  {
   "cell_type": "code",
   "execution_count": 95,
   "id": "29a414a0-04d5-404c-85d4-3bc6d4ed7cd3",
   "metadata": {
    "tags": []
   },
   "outputs": [],
   "source": [
    "# Display all column when looking at dfs\n",
    "pd.set_option(\"display.max.columns\", None)"
   ]
  },
  {
   "cell_type": "code",
   "execution_count": 96,
   "id": "fc77d9ca-e6b2-4465-a76e-5ea97fb4ac14",
   "metadata": {
    "tags": []
   },
   "outputs": [
    {
     "data": {
      "text/html": [
       "<div>\n",
       "<style scoped>\n",
       "    .dataframe tbody tr th:only-of-type {\n",
       "        vertical-align: middle;\n",
       "    }\n",
       "\n",
       "    .dataframe tbody tr th {\n",
       "        vertical-align: top;\n",
       "    }\n",
       "\n",
       "    .dataframe thead th {\n",
       "        text-align: right;\n",
       "    }\n",
       "</style>\n",
       "<table border=\"1\" class=\"dataframe\">\n",
       "  <thead>\n",
       "    <tr style=\"text-align: right;\">\n",
       "      <th></th>\n",
       "      <th>unnamed: 0</th>\n",
       "      <th>objectid</th>\n",
       "      <th>plant_code</th>\n",
       "      <th>plant_name</th>\n",
       "      <th>utility_id</th>\n",
       "      <th>utility_name</th>\n",
       "      <th>sector_name</th>\n",
       "      <th>street_address</th>\n",
       "      <th>city</th>\n",
       "      <th>county</th>\n",
       "      <th>state</th>\n",
       "      <th>zip</th>\n",
       "      <th>primsource</th>\n",
       "      <th>source_desc</th>\n",
       "      <th>tech_desc</th>\n",
       "      <th>install_mw</th>\n",
       "      <th>total_mw</th>\n",
       "      <th>bat_mw</th>\n",
       "      <th>bio_mw</th>\n",
       "      <th>coal_mw</th>\n",
       "      <th>geo_mw</th>\n",
       "      <th>hydro_mw</th>\n",
       "      <th>hydrops_mw</th>\n",
       "      <th>ng_mw</th>\n",
       "      <th>nuclear_mw</th>\n",
       "      <th>crude_mw</th>\n",
       "      <th>solar_mw</th>\n",
       "      <th>wind_mw</th>\n",
       "      <th>other_mw</th>\n",
       "      <th>source</th>\n",
       "      <th>period</th>\n",
       "      <th>longitude</th>\n",
       "      <th>latitude</th>\n",
       "    </tr>\n",
       "  </thead>\n",
       "  <tbody>\n",
       "    <tr>\n",
       "      <th>0</th>\n",
       "      <td>0.0</td>\n",
       "      <td>11570</td>\n",
       "      <td>1</td>\n",
       "      <td>Sand Point</td>\n",
       "      <td>63560</td>\n",
       "      <td>TDX Sand Point Generating, LLC</td>\n",
       "      <td>Electric Utility</td>\n",
       "      <td>100 Power Plant Way</td>\n",
       "      <td>Sand Point</td>\n",
       "      <td>Aleutians East</td>\n",
       "      <td>Alaska</td>\n",
       "      <td>99661.0</td>\n",
       "      <td>petroleum</td>\n",
       "      <td>Petroleum = 1.3 MW, Wind = 0.4 MW</td>\n",
       "      <td>Petroleum Liquids; Onshore Wind Turbine;</td>\n",
       "      <td>3.7</td>\n",
       "      <td>1.7</td>\n",
       "      <td>NaN</td>\n",
       "      <td>NaN</td>\n",
       "      <td>NaN</td>\n",
       "      <td>NaN</td>\n",
       "      <td>NaN</td>\n",
       "      <td>NaN</td>\n",
       "      <td>NaN</td>\n",
       "      <td>NaN</td>\n",
       "      <td>1.3</td>\n",
       "      <td>NaN</td>\n",
       "      <td>0.4</td>\n",
       "      <td>NaN</td>\n",
       "      <td>EIA-860, EIA-860M and EIA-923</td>\n",
       "      <td>202305.0</td>\n",
       "      <td>-160.497222</td>\n",
       "      <td>55.339722</td>\n",
       "    </tr>\n",
       "    <tr>\n",
       "      <th>1</th>\n",
       "      <td>1.0</td>\n",
       "      <td>11571</td>\n",
       "      <td>2</td>\n",
       "      <td>Bankhead Dam</td>\n",
       "      <td>195</td>\n",
       "      <td>Alabama Power Co</td>\n",
       "      <td>Electric Utility</td>\n",
       "      <td>19001 Lock 17 Road</td>\n",
       "      <td>Northport</td>\n",
       "      <td>Tuscaloosa</td>\n",
       "      <td>Alabama</td>\n",
       "      <td>35476.0</td>\n",
       "      <td>hydroelectric</td>\n",
       "      <td>Hydroelectric = 53 MW</td>\n",
       "      <td>Conventional Hydroelectric</td>\n",
       "      <td>53.9</td>\n",
       "      <td>53.0</td>\n",
       "      <td>NaN</td>\n",
       "      <td>NaN</td>\n",
       "      <td>NaN</td>\n",
       "      <td>NaN</td>\n",
       "      <td>53.0</td>\n",
       "      <td>NaN</td>\n",
       "      <td>NaN</td>\n",
       "      <td>NaN</td>\n",
       "      <td>NaN</td>\n",
       "      <td>NaN</td>\n",
       "      <td>NaN</td>\n",
       "      <td>NaN</td>\n",
       "      <td>EIA-860, EIA-860M and EIA-923</td>\n",
       "      <td>202305.0</td>\n",
       "      <td>-87.356823</td>\n",
       "      <td>33.458665</td>\n",
       "    </tr>\n",
       "    <tr>\n",
       "      <th>2</th>\n",
       "      <td>2.0</td>\n",
       "      <td>11572</td>\n",
       "      <td>3</td>\n",
       "      <td>Barry</td>\n",
       "      <td>195</td>\n",
       "      <td>Alabama Power Co</td>\n",
       "      <td>Electric Utility</td>\n",
       "      <td>North Highway 43</td>\n",
       "      <td>Bucks</td>\n",
       "      <td>Mobile</td>\n",
       "      <td>Alabama</td>\n",
       "      <td>36512.0</td>\n",
       "      <td>natural gas</td>\n",
       "      <td>Coal = 1118.5 MW, Natural Gas = 1296.2 MW</td>\n",
       "      <td>Conventional Steam Coal; Natural Gas Fired Com...</td>\n",
       "      <td>2569.5</td>\n",
       "      <td>2414.7</td>\n",
       "      <td>NaN</td>\n",
       "      <td>NaN</td>\n",
       "      <td>1118.5</td>\n",
       "      <td>NaN</td>\n",
       "      <td>NaN</td>\n",
       "      <td>NaN</td>\n",
       "      <td>1296.2</td>\n",
       "      <td>NaN</td>\n",
       "      <td>NaN</td>\n",
       "      <td>NaN</td>\n",
       "      <td>NaN</td>\n",
       "      <td>NaN</td>\n",
       "      <td>EIA-860, EIA-860M and EIA-923</td>\n",
       "      <td>202305.0</td>\n",
       "      <td>-88.010300</td>\n",
       "      <td>31.006900</td>\n",
       "    </tr>\n",
       "  </tbody>\n",
       "</table>\n",
       "</div>"
      ],
      "text/plain": [
       "   unnamed: 0 objectid plant_code    plant_name utility_id  \\\n",
       "0         0.0    11570          1    Sand Point      63560   \n",
       "1         1.0    11571          2  Bankhead Dam        195   \n",
       "2         2.0    11572          3         Barry        195   \n",
       "\n",
       "                     utility_name       sector_name       street_address  \\\n",
       "0  TDX Sand Point Generating, LLC  Electric Utility  100 Power Plant Way   \n",
       "1                Alabama Power Co  Electric Utility   19001 Lock 17 Road   \n",
       "2                Alabama Power Co  Electric Utility     North Highway 43   \n",
       "\n",
       "         city          county    state      zip     primsource  \\\n",
       "0  Sand Point  Aleutians East   Alaska  99661.0      petroleum   \n",
       "1   Northport      Tuscaloosa  Alabama  35476.0  hydroelectric   \n",
       "2       Bucks          Mobile  Alabama  36512.0    natural gas   \n",
       "\n",
       "                                 source_desc  \\\n",
       "0          Petroleum = 1.3 MW, Wind = 0.4 MW   \n",
       "1                      Hydroelectric = 53 MW   \n",
       "2  Coal = 1118.5 MW, Natural Gas = 1296.2 MW   \n",
       "\n",
       "                                           tech_desc  install_mw  total_mw  \\\n",
       "0           Petroleum Liquids; Onshore Wind Turbine;         3.7       1.7   \n",
       "1                         Conventional Hydroelectric        53.9      53.0   \n",
       "2  Conventional Steam Coal; Natural Gas Fired Com...      2569.5    2414.7   \n",
       "\n",
       "   bat_mw  bio_mw  coal_mw  geo_mw  hydro_mw  hydrops_mw   ng_mw nuclear_mw  \\\n",
       "0     NaN     NaN      NaN     NaN       NaN         NaN     NaN        NaN   \n",
       "1     NaN     NaN      NaN     NaN      53.0         NaN     NaN        NaN   \n",
       "2     NaN     NaN   1118.5     NaN       NaN         NaN  1296.2        NaN   \n",
       "\n",
       "   crude_mw  solar_mw  wind_mw  other_mw                         source  \\\n",
       "0       1.3       NaN      0.4       NaN  EIA-860, EIA-860M and EIA-923   \n",
       "1       NaN       NaN      NaN       NaN  EIA-860, EIA-860M and EIA-923   \n",
       "2       NaN       NaN      NaN       NaN  EIA-860, EIA-860M and EIA-923   \n",
       "\n",
       "     period   longitude   latitude  \n",
       "0  202305.0 -160.497222  55.339722  \n",
       "1  202305.0  -87.356823  33.458665  \n",
       "2  202305.0  -88.010300  31.006900  "
      ]
     },
     "execution_count": 96,
     "metadata": {},
     "output_type": "execute_result"
    }
   ],
   "source": [
    "# Import power plants data\n",
    "URL = 'https://raw.githubusercontent.com/carmengg/eds-220-book/refs/heads/main/data/power_plants_epsg4269.csv'\n",
    "power_plants = pd.read_csv(URL)\n",
    "\n",
    "# Simpify column names\n",
    "power_plants.columns = power_plants.columns.str.lower()\n",
    "\n",
    "power_plants.head(3)"
   ]
  },
  {
   "cell_type": "markdown",
   "id": "d5723c0c-7bf6-433b-b9f4-032df68d1818",
   "metadata": {},
   "source": [
    "Lets use the longitude and latitude columns in the CSV, to create a geodataframe. T\n",
    "hese indicate the location of the power plants in the NAD83 CRS (EPSG:4269). \n",
    "We can use this information to create a new geopandas.GeoDataFrame from the pandas.DataFrame using the `geopandas` function `points_from_xy()`:"
   ]
  },
  {
   "cell_type": "code",
   "execution_count": 4,
   "id": "63054e95-80b0-4884-979c-a5051ec6dd34",
   "metadata": {
    "tags": []
   },
   "outputs": [
    {
     "data": {
      "text/html": [
       "<div>\n",
       "<style scoped>\n",
       "    .dataframe tbody tr th:only-of-type {\n",
       "        vertical-align: middle;\n",
       "    }\n",
       "\n",
       "    .dataframe tbody tr th {\n",
       "        vertical-align: top;\n",
       "    }\n",
       "\n",
       "    .dataframe thead th {\n",
       "        text-align: right;\n",
       "    }\n",
       "</style>\n",
       "<table border=\"1\" class=\"dataframe\">\n",
       "  <thead>\n",
       "    <tr style=\"text-align: right;\">\n",
       "      <th></th>\n",
       "      <th>unnamed: 0</th>\n",
       "      <th>objectid</th>\n",
       "      <th>plant_code</th>\n",
       "      <th>plant_name</th>\n",
       "      <th>utility_id</th>\n",
       "      <th>utility_name</th>\n",
       "      <th>sector_name</th>\n",
       "      <th>street_address</th>\n",
       "      <th>city</th>\n",
       "      <th>county</th>\n",
       "      <th>state</th>\n",
       "      <th>zip</th>\n",
       "      <th>primsource</th>\n",
       "      <th>source_desc</th>\n",
       "      <th>tech_desc</th>\n",
       "      <th>install_mw</th>\n",
       "      <th>total_mw</th>\n",
       "      <th>bat_mw</th>\n",
       "      <th>bio_mw</th>\n",
       "      <th>coal_mw</th>\n",
       "      <th>geo_mw</th>\n",
       "      <th>hydro_mw</th>\n",
       "      <th>hydrops_mw</th>\n",
       "      <th>ng_mw</th>\n",
       "      <th>nuclear_mw</th>\n",
       "      <th>crude_mw</th>\n",
       "      <th>solar_mw</th>\n",
       "      <th>wind_mw</th>\n",
       "      <th>other_mw</th>\n",
       "      <th>source</th>\n",
       "      <th>period</th>\n",
       "      <th>longitude</th>\n",
       "      <th>latitude</th>\n",
       "      <th>geometry</th>\n",
       "    </tr>\n",
       "  </thead>\n",
       "  <tbody>\n",
       "    <tr>\n",
       "      <th>0</th>\n",
       "      <td>0.0</td>\n",
       "      <td>11570</td>\n",
       "      <td>1</td>\n",
       "      <td>Sand Point</td>\n",
       "      <td>63560</td>\n",
       "      <td>TDX Sand Point Generating, LLC</td>\n",
       "      <td>Electric Utility</td>\n",
       "      <td>100 Power Plant Way</td>\n",
       "      <td>Sand Point</td>\n",
       "      <td>Aleutians East</td>\n",
       "      <td>Alaska</td>\n",
       "      <td>99661.0</td>\n",
       "      <td>petroleum</td>\n",
       "      <td>Petroleum = 1.3 MW, Wind = 0.4 MW</td>\n",
       "      <td>Petroleum Liquids; Onshore Wind Turbine;</td>\n",
       "      <td>3.7</td>\n",
       "      <td>1.7</td>\n",
       "      <td>NaN</td>\n",
       "      <td>NaN</td>\n",
       "      <td>NaN</td>\n",
       "      <td>NaN</td>\n",
       "      <td>NaN</td>\n",
       "      <td>NaN</td>\n",
       "      <td>NaN</td>\n",
       "      <td>NaN</td>\n",
       "      <td>1.3</td>\n",
       "      <td>NaN</td>\n",
       "      <td>0.4</td>\n",
       "      <td>NaN</td>\n",
       "      <td>EIA-860, EIA-860M and EIA-923</td>\n",
       "      <td>202305.0</td>\n",
       "      <td>-160.497222</td>\n",
       "      <td>55.339722</td>\n",
       "      <td>POINT (-160.49722 55.33972)</td>\n",
       "    </tr>\n",
       "    <tr>\n",
       "      <th>1</th>\n",
       "      <td>1.0</td>\n",
       "      <td>11571</td>\n",
       "      <td>2</td>\n",
       "      <td>Bankhead Dam</td>\n",
       "      <td>195</td>\n",
       "      <td>Alabama Power Co</td>\n",
       "      <td>Electric Utility</td>\n",
       "      <td>19001 Lock 17 Road</td>\n",
       "      <td>Northport</td>\n",
       "      <td>Tuscaloosa</td>\n",
       "      <td>Alabama</td>\n",
       "      <td>35476.0</td>\n",
       "      <td>hydroelectric</td>\n",
       "      <td>Hydroelectric = 53 MW</td>\n",
       "      <td>Conventional Hydroelectric</td>\n",
       "      <td>53.9</td>\n",
       "      <td>53.0</td>\n",
       "      <td>NaN</td>\n",
       "      <td>NaN</td>\n",
       "      <td>NaN</td>\n",
       "      <td>NaN</td>\n",
       "      <td>53.0</td>\n",
       "      <td>NaN</td>\n",
       "      <td>NaN</td>\n",
       "      <td>NaN</td>\n",
       "      <td>NaN</td>\n",
       "      <td>NaN</td>\n",
       "      <td>NaN</td>\n",
       "      <td>NaN</td>\n",
       "      <td>EIA-860, EIA-860M and EIA-923</td>\n",
       "      <td>202305.0</td>\n",
       "      <td>-87.356823</td>\n",
       "      <td>33.458665</td>\n",
       "      <td>POINT (-87.35682 33.45867)</td>\n",
       "    </tr>\n",
       "    <tr>\n",
       "      <th>2</th>\n",
       "      <td>2.0</td>\n",
       "      <td>11572</td>\n",
       "      <td>3</td>\n",
       "      <td>Barry</td>\n",
       "      <td>195</td>\n",
       "      <td>Alabama Power Co</td>\n",
       "      <td>Electric Utility</td>\n",
       "      <td>North Highway 43</td>\n",
       "      <td>Bucks</td>\n",
       "      <td>Mobile</td>\n",
       "      <td>Alabama</td>\n",
       "      <td>36512.0</td>\n",
       "      <td>natural gas</td>\n",
       "      <td>Coal = 1118.5 MW, Natural Gas = 1296.2 MW</td>\n",
       "      <td>Conventional Steam Coal; Natural Gas Fired Com...</td>\n",
       "      <td>2569.5</td>\n",
       "      <td>2414.7</td>\n",
       "      <td>NaN</td>\n",
       "      <td>NaN</td>\n",
       "      <td>1118.5</td>\n",
       "      <td>NaN</td>\n",
       "      <td>NaN</td>\n",
       "      <td>NaN</td>\n",
       "      <td>1296.2</td>\n",
       "      <td>NaN</td>\n",
       "      <td>NaN</td>\n",
       "      <td>NaN</td>\n",
       "      <td>NaN</td>\n",
       "      <td>NaN</td>\n",
       "      <td>EIA-860, EIA-860M and EIA-923</td>\n",
       "      <td>202305.0</td>\n",
       "      <td>-88.010300</td>\n",
       "      <td>31.006900</td>\n",
       "      <td>POINT (-88.01030 31.00690)</td>\n",
       "    </tr>\n",
       "  </tbody>\n",
       "</table>\n",
       "</div>"
      ],
      "text/plain": [
       "   unnamed: 0 objectid plant_code    plant_name utility_id  \\\n",
       "0         0.0    11570          1    Sand Point      63560   \n",
       "1         1.0    11571          2  Bankhead Dam        195   \n",
       "2         2.0    11572          3         Barry        195   \n",
       "\n",
       "                     utility_name       sector_name       street_address  \\\n",
       "0  TDX Sand Point Generating, LLC  Electric Utility  100 Power Plant Way   \n",
       "1                Alabama Power Co  Electric Utility   19001 Lock 17 Road   \n",
       "2                Alabama Power Co  Electric Utility     North Highway 43   \n",
       "\n",
       "         city          county    state      zip     primsource  \\\n",
       "0  Sand Point  Aleutians East   Alaska  99661.0      petroleum   \n",
       "1   Northport      Tuscaloosa  Alabama  35476.0  hydroelectric   \n",
       "2       Bucks          Mobile  Alabama  36512.0    natural gas   \n",
       "\n",
       "                                 source_desc  \\\n",
       "0          Petroleum = 1.3 MW, Wind = 0.4 MW   \n",
       "1                      Hydroelectric = 53 MW   \n",
       "2  Coal = 1118.5 MW, Natural Gas = 1296.2 MW   \n",
       "\n",
       "                                           tech_desc  install_mw  total_mw  \\\n",
       "0           Petroleum Liquids; Onshore Wind Turbine;         3.7       1.7   \n",
       "1                         Conventional Hydroelectric        53.9      53.0   \n",
       "2  Conventional Steam Coal; Natural Gas Fired Com...      2569.5    2414.7   \n",
       "\n",
       "   bat_mw  bio_mw  coal_mw  geo_mw  hydro_mw  hydrops_mw   ng_mw nuclear_mw  \\\n",
       "0     NaN     NaN      NaN     NaN       NaN         NaN     NaN        NaN   \n",
       "1     NaN     NaN      NaN     NaN      53.0         NaN     NaN        NaN   \n",
       "2     NaN     NaN   1118.5     NaN       NaN         NaN  1296.2        NaN   \n",
       "\n",
       "   crude_mw  solar_mw  wind_mw  other_mw                         source  \\\n",
       "0       1.3       NaN      0.4       NaN  EIA-860, EIA-860M and EIA-923   \n",
       "1       NaN       NaN      NaN       NaN  EIA-860, EIA-860M and EIA-923   \n",
       "2       NaN       NaN      NaN       NaN  EIA-860, EIA-860M and EIA-923   \n",
       "\n",
       "     period   longitude   latitude                     geometry  \n",
       "0  202305.0 -160.497222  55.339722  POINT (-160.49722 55.33972)  \n",
       "1  202305.0  -87.356823  33.458665   POINT (-87.35682 33.45867)  \n",
       "2  202305.0  -88.010300  31.006900   POINT (-88.01030 31.00690)  "
      ]
     },
     "execution_count": 4,
     "metadata": {},
     "output_type": "execute_result"
    }
   ],
   "source": [
    "# Create points from latitude and longitude\n",
    "points = gpd.points_from_xy(power_plants.longitude, \n",
    "                            power_plants.latitude)\n",
    "\n",
    "# Create geodataframe\n",
    "power_plants = gpd.GeoDataFrame(power_plants,    # Data\n",
    "                                geometry=points, # Specify geometry column\n",
    "                                crs='EPSG:4269'  # Specify CRS\n",
    "                                )\n",
    "\n",
    "power_plants.head(3)"
   ]
  },
  {
   "cell_type": "code",
   "execution_count": 5,
   "id": "6b989e2a-c804-4f46-a006-617eb9c9dd7c",
   "metadata": {},
   "outputs": [
    {
     "data": {
      "text/plain": [
       "0        POINT (-160.49722 55.33972)\n",
       "1         POINT (-87.35682 33.45867)\n",
       "2         POINT (-88.01030 31.00690)\n",
       "3         POINT (-86.28306 32.58389)\n",
       "4        POINT (-106.37500 31.75690)\n",
       "                    ...             \n",
       "12004     POINT (-82.37595 35.38014)\n",
       "12005     POINT (-79.36770 36.00932)\n",
       "12006     POINT (-79.73631 35.27343)\n",
       "12007     POINT (-73.91048 42.87657)\n",
       "12008     POINT (-77.27590 41.83800)\n",
       "Name: geometry, Length: 12009, dtype: geometry"
      ]
     },
     "execution_count": 5,
     "metadata": {},
     "output_type": "execute_result"
    }
   ],
   "source": [
    "power_plants['geometry']"
   ]
  },
  {
   "cell_type": "code",
   "execution_count": 6,
   "id": "cb749c19",
   "metadata": {},
   "outputs": [
    {
     "name": "stdout",
     "output_type": "stream",
     "text": [
      "CRS:  EPSG:4269\n"
     ]
    }
   ],
   "source": [
    "print('CRS: ', power_plants.crs)"
   ]
  },
  {
   "cell_type": "code",
   "execution_count": 7,
   "id": "b17cdcd1",
   "metadata": {},
   "outputs": [
    {
     "name": "stdout",
     "output_type": "stream",
     "text": [
      "is the CRS geographic?:  True\n"
     ]
    }
   ],
   "source": [
    "print('is the CRS geographic?: ', power_plants.crs.is_geographic)"
   ]
  },
  {
   "cell_type": "code",
   "execution_count": 8,
   "id": "ac4e4e54",
   "metadata": {},
   "outputs": [
    {
     "data": {
      "text/plain": [
       "<Axes: >"
      ]
     },
     "execution_count": 8,
     "metadata": {},
     "output_type": "execute_result"
    },
    {
     "data": {
      "image/png": "[encoded data removed]",
      "text/plain": [
       "<Figure size 640x480 with 1 Axes>"
      ]
     },
     "metadata": {},
     "output_type": "display_data"
    }
   ],
   "source": [
    "# Plot points and color them according to values in primsource column\n",
    "power_plants.plot(column='primsource')  "
   ]
  },
  {
   "cell_type": "markdown",
   "id": "28a9beee-a2fe-467c-9b3c-a5b946c0b77d",
   "metadata": {},
   "source": [
    "## f-strings\n",
    "\n",
    "So far, we have printed variables using string concatenation inside the `print()` function: we use commas to separate every variable and string that we want to print. Example:"
   ]
  },
  {
   "cell_type": "code",
   "execution_count": 9,
   "id": "e38355e1-c745-437d-a60e-3ebe59deb822",
   "metadata": {
    "tags": []
   },
   "outputs": [
    {
     "name": "stdout",
     "output_type": "stream",
     "text": [
      "CRS:  EPSG:4269\n"
     ]
    }
   ],
   "source": [
    "print('CRS: ', power_plants.crs)"
   ]
  },
  {
   "cell_type": "markdown",
   "id": "cf76dc20-a639-4063-870d-7e885cd3aa92",
   "metadata": {},
   "source": [
    "Another popular way to mix variables and strings in a print statement is by creating a **f-string**, stands for \"formatted string\".\n",
    "\n",
    "The simplest syntax:\n",
    "```python\n",
    "f\"some text {replace}\"\n",
    "```\n",
    "where `replace` can be a variable, na expression, a function or method call.\n",
    "Example:"
   ]
  },
  {
   "cell_type": "code",
   "execution_count": 10,
   "id": "b0641ec5-4892-44a5-be99-d636f928a78d",
   "metadata": {
    "tags": []
   },
   "outputs": [
    {
     "name": "stdout",
     "output_type": "stream",
     "text": [
      "ellipsoid: North American Datum 1983\n"
     ]
    }
   ],
   "source": [
    "# Check what is the ellipoid\n",
    "print(f\"ellipsoid: {power_plants.crs.datum}\")"
   ]
  },
  {
   "cell_type": "markdown",
   "id": "ce7cf7c7-e5e3-4d6b-a044-9080ff5e461c",
   "metadata": {},
   "source": [
    "Advanatages of f-strings: a lot of customization for formatting output."
   ]
  },
  {
   "cell_type": "code",
   "execution_count": 11,
   "id": "c5787d1b-46fc-4706-8e73-40eaffc85693",
   "metadata": {
    "tags": []
   },
   "outputs": [
    {
     "name": "stdout",
     "output_type": "stream",
     "text": [
      "Is the CRS geographic?:   True\n",
      "Is the CRS projected?:    False\n"
     ]
    }
   ],
   "source": [
    "print(f\"{'Is the CRS geographic?:':<25} {power_plants.crs.is_geographic}\")\n",
    "print(f\"{'Is the CRS projected?:':<25} {power_plants.crs.is_projected}\")"
   ]
  },
  {
   "cell_type": "markdown",
   "id": "9fb79747-e16b-4648-bbfb-812763fd7a78",
   "metadata": {},
   "source": [
    "## Import shapefile"
   ]
  },
  {
   "cell_type": "code",
   "execution_count": 12,
   "id": "5bb27ea6-c48f-44e4-91ec-8144229dd7b7",
   "metadata": {
    "tags": []
   },
   "outputs": [
    {
     "data": {
      "text/plain": [
       "'/Users/jcardelle/MEDS/eds-220/eds220-2024-in-class'"
      ]
     },
     "execution_count": 12,
     "metadata": {},
     "output_type": "execute_result"
    }
   ],
   "source": [
    "os.getcwd()"
   ]
  },
  {
   "cell_type": "code",
   "execution_count": 13,
   "id": "99b75d28-17e3-4608-9da3-98ecd3644ffb",
   "metadata": {
    "tags": []
   },
   "outputs": [
    {
     "name": "stderr",
     "output_type": "stream",
     "text": [
      "ERROR 1: PROJ: proj_create_from_database: Open of /opt/anaconda3/envs/eds220-env/share/proj failed\n"
     ]
    },
    {
     "data": {
      "text/html": [
       "<div>\n",
       "<style scoped>\n",
       "    .dataframe tbody tr th:only-of-type {\n",
       "        vertical-align: middle;\n",
       "    }\n",
       "\n",
       "    .dataframe tbody tr th {\n",
       "        vertical-align: top;\n",
       "    }\n",
       "\n",
       "    .dataframe thead th {\n",
       "        text-align: right;\n",
       "    }\n",
       "</style>\n",
       "<table border=\"1\" class=\"dataframe\">\n",
       "  <thead>\n",
       "    <tr style=\"text-align: right;\">\n",
       "      <th></th>\n",
       "      <th>region</th>\n",
       "      <th>division</th>\n",
       "      <th>statefp</th>\n",
       "      <th>statens</th>\n",
       "      <th>geoid</th>\n",
       "      <th>stusps</th>\n",
       "      <th>name</th>\n",
       "      <th>lsad</th>\n",
       "      <th>mtfcc</th>\n",
       "      <th>funcstat</th>\n",
       "      <th>aland</th>\n",
       "      <th>awater</th>\n",
       "      <th>intptlat</th>\n",
       "      <th>intptlon</th>\n",
       "      <th>geometry</th>\n",
       "    </tr>\n",
       "  </thead>\n",
       "  <tbody>\n",
       "    <tr>\n",
       "      <th>0</th>\n",
       "      <td>3</td>\n",
       "      <td>5</td>\n",
       "      <td>54</td>\n",
       "      <td>01779805</td>\n",
       "      <td>54</td>\n",
       "      <td>WV</td>\n",
       "      <td>West Virginia</td>\n",
       "      <td>00</td>\n",
       "      <td>G4000</td>\n",
       "      <td>A</td>\n",
       "      <td>62266456923</td>\n",
       "      <td>489045863</td>\n",
       "      <td>+38.6472854</td>\n",
       "      <td>-080.6183274</td>\n",
       "      <td>POLYGON ((-77.75438 39.33346, -77.75422 39.333...</td>\n",
       "    </tr>\n",
       "    <tr>\n",
       "      <th>1</th>\n",
       "      <td>3</td>\n",
       "      <td>5</td>\n",
       "      <td>12</td>\n",
       "      <td>00294478</td>\n",
       "      <td>12</td>\n",
       "      <td>FL</td>\n",
       "      <td>Florida</td>\n",
       "      <td>00</td>\n",
       "      <td>G4000</td>\n",
       "      <td>A</td>\n",
       "      <td>138962819934</td>\n",
       "      <td>45971472526</td>\n",
       "      <td>+28.3989775</td>\n",
       "      <td>-082.5143005</td>\n",
       "      <td>MULTIPOLYGON (((-83.10874 24.62949, -83.10711 ...</td>\n",
       "    </tr>\n",
       "    <tr>\n",
       "      <th>2</th>\n",
       "      <td>2</td>\n",
       "      <td>3</td>\n",
       "      <td>17</td>\n",
       "      <td>01779784</td>\n",
       "      <td>17</td>\n",
       "      <td>IL</td>\n",
       "      <td>Illinois</td>\n",
       "      <td>00</td>\n",
       "      <td>G4000</td>\n",
       "      <td>A</td>\n",
       "      <td>143778515726</td>\n",
       "      <td>6216539665</td>\n",
       "      <td>+40.1028754</td>\n",
       "      <td>-089.1526108</td>\n",
       "      <td>POLYGON ((-87.89243 38.28285, -87.89334 38.282...</td>\n",
       "    </tr>\n",
       "  </tbody>\n",
       "</table>\n",
       "</div>"
      ],
      "text/plain": [
       "  region division statefp   statens geoid stusps           name lsad  mtfcc  \\\n",
       "0      3        5      54  01779805    54     WV  West Virginia   00  G4000   \n",
       "1      3        5      12  00294478    12     FL        Florida   00  G4000   \n",
       "2      2        3      17  01779784    17     IL       Illinois   00  G4000   \n",
       "\n",
       "  funcstat         aland       awater     intptlat      intptlon  \\\n",
       "0        A   62266456923    489045863  +38.6472854  -080.6183274   \n",
       "1        A  138962819934  45971472526  +28.3989775  -082.5143005   \n",
       "2        A  143778515726   6216539665  +40.1028754  -089.1526108   \n",
       "\n",
       "                                            geometry  \n",
       "0  POLYGON ((-77.75438 39.33346, -77.75422 39.333...  \n",
       "1  MULTIPOLYGON (((-83.10874 24.62949, -83.10711 ...  \n",
       "2  POLYGON ((-87.89243 38.28285, -87.89334 38.282...  "
      ]
     },
     "execution_count": 13,
     "metadata": {},
     "output_type": "execute_result"
    }
   ],
   "source": [
    "# Create absolute file path to data\n",
    "fp = os.path.join('/', \n",
    "                  'courses', \n",
    "                  'EDS220',\n",
    "                 'data',\n",
    "                 'tl_2022_us_state',\n",
    "                 'tl_2022_us_state.shp')\n",
    "states = gpd.read_file(fp)\n",
    "\n",
    "# Simplify column names\n",
    "states.columns = states.columns.str.lower()\n",
    "\n",
    "states.head(3)"
   ]
  },
  {
   "cell_type": "code",
   "execution_count": 14,
   "id": "d86ee142-565f-4c6e-bf96-58a65dc7ab41",
   "metadata": {
    "tags": []
   },
   "outputs": [
    {
     "name": "stdout",
     "output_type": "stream",
     "text": [
      "EPSG:4269\n"
     ]
    },
    {
     "data": {
      "text/plain": [
       "<Axes: >"
      ]
     },
     "execution_count": 14,
     "metadata": {},
     "output_type": "execute_result"
    },
    {
     "data": {
      "image/png": "[encoded data removed]",
      "text/plain": [
       "<Figure size 640x480 with 1 Axes>"
      ]
     },
     "metadata": {},
     "output_type": "display_data"
    }
   ],
   "source": [
    "print(states.crs)\n",
    "states.plot()"
   ]
  },
  {
   "cell_type": "markdown",
   "id": "4666e79a-c8ee-4655-a7a0-232b21cfc29b",
   "metadata": {},
   "source": [
    "`for` loops\n",
    "\n",
    "It can be easier to work with the codes as numbers iinstead of strings, let's update the corresponding columns in the geo-dataframe"
   ]
  },
  {
   "cell_type": "code",
   "execution_count": 15,
   "id": "315584f7-5d6f-4a24-a209-1e909f69ba24",
   "metadata": {
    "tags": []
   },
   "outputs": [
    {
     "name": "stdout",
     "output_type": "stream",
     "text": [
      "region is string dtype? True\n",
      "division is string dtype? True\n",
      "statefp is string dtype? True\n"
     ]
    }
   ],
   "source": [
    "print(f\"region is string dtype? {is_string_dtype(states['region'])}\")\n",
    "print(f\"division is string dtype? {is_string_dtype(states['division'])}\")\n",
    "print(f\"statefp is string dtype? {is_string_dtype(states['statefp'])}\")"
   ]
  },
  {
   "cell_type": "markdown",
   "id": "e1f7b086-cdf7-4108-b7fb-b7014862725e",
   "metadata": {},
   "source": [
    "This inconvenient because it repeats the same ppiece of code, only changing the column name.\n",
    "Instead, using a `for` loop allows to succinctly print the same info:"
   ]
  },
  {
   "cell_type": "code",
   "execution_count": 16,
   "id": "2748f691-c7a9-483d-aa79-c85cbb8b1fd0",
   "metadata": {
    "tags": []
   },
   "outputs": [
    {
     "name": "stdout",
     "output_type": "stream",
     "text": [
      "region is string dtype? True\n",
      "division is string dtype? True\n",
      "statefp is string dtype? True\n"
     ]
    }
   ],
   "source": [
    "code_cols = ['region', 'division', 'statefp']\n",
    "\n",
    "# Check whether codes columns are strings\n",
    "for column in code_cols:\n",
    "    print(f\"{column} is string dtype? {is_string_dtype(states[column])}\")"
   ]
  },
  {
   "cell_type": "markdown",
   "id": "ba3b8417-7bab-47ad-b4b5-96083bc20c15",
   "metadata": {},
   "source": [
    "`for` loops execute a block of code a fixed number of times, iterating over a set of objects. In this case, we iterate over the list of column names \n",
    "\n",
    "**DRY code**\n",
    "\n",
    "DRY = dont repeat yourself is a core programming principle that encourages reducing redundancy and consolidating repeated logic.\n",
    "If you need to repeat the \"same\" code more than twice, you probably need a `for` loop.\n",
    "\n",
    "Next, update data type of the codde columns to be integers.\n",
    "This time, we verify the data type of the column using the `is_numeric_dtype()` and `assert` statement:"
   ]
  },
  {
   "cell_type": "code",
   "execution_count": 17,
   "id": "affa0872-e14e-4537-bab9-ba7fa7a2edf1",
   "metadata": {
    "tags": []
   },
   "outputs": [],
   "source": [
    "# Update code columns into integers\n",
    "for column in code_cols:\n",
    "    states[column] = states[column].astype('int')\n",
    "    assert is_numeric_dtype(states[column]) # Check conversion"
   ]
  },
  {
   "cell_type": "markdown",
   "id": "a7df9f99-55c8-4d05-adc8-45f631f5afaf",
   "metadata": {},
   "source": [
    "The `assert` keyword does nothing if the expression next to it evaluaates to `True`.\n",
    "If the expression evaluates to `False` then `assert` raises an `AssertionError` and stops your code from running.\n",
    "Example:"
   ]
  },
  {
   "cell_type": "code",
   "execution_count": 18,
   "id": "156dd54f-2ad6-488c-ade7-d952cb1b3cf8",
   "metadata": {
    "tags": []
   },
   "outputs": [],
   "source": [
    "# Does nothing if statement is True\n",
    "assert 2 + 2 == 4"
   ]
  },
  {
   "cell_type": "code",
   "execution_count": 19,
   "id": "1fbcbb1c-e82a-4223-be89-2c18eb633fa1",
   "metadata": {
    "tags": []
   },
   "outputs": [],
   "source": [
    "# Raises an error if statement is False\n",
    "# assert 2 + 2 == 3 "
   ]
  },
  {
   "cell_type": "markdown",
   "id": "d7eba807-16c6-43c3-a7f1-e69ac972176e",
   "metadata": {},
   "source": [
    "## Data selection\n",
    "\n",
    "For this lesson, we want to use only the contiguous states."
   ]
  },
  {
   "cell_type": "code",
   "execution_count": 20,
   "id": "49a4f263-4e81-4de3-8320-a71ca77a9557",
   "metadata": {
    "tags": []
   },
   "outputs": [
    {
     "data": {
      "text/plain": [
       "<Axes: >"
      ]
     },
     "execution_count": 20,
     "metadata": {},
     "output_type": "execute_result"
    },
    {
     "data": {
      "image/png": "[encoded data removed]",
      "text/plain": [
       "<Figure size 640x480 with 1 Axes>"
      ]
     },
     "metadata": {},
     "output_type": "display_data"
    }
   ],
   "source": [
    "states.plot()"
   ]
  },
  {
   "cell_type": "markdown",
   "id": "0aaa168f-b978-44ff-9124-4d31ff72341c",
   "metadata": {},
   "source": [
    "## Check-in\n",
    "\n",
    "- What are the unique values for region, division, or state codes in the data?\n",
    "- Which codes should we select to keep only states in the contiguous US?"
   ]
  },
  {
   "cell_type": "code",
   "execution_count": 21,
   "id": "d226d839-7840-472b-b9f7-77f4624ae43a",
   "metadata": {
    "tags": []
   },
   "outputs": [
    {
     "data": {
      "text/plain": [
       "array([3, 2, 1, 4, 9])"
      ]
     },
     "execution_count": 21,
     "metadata": {},
     "output_type": "execute_result"
    }
   ],
   "source": [
    "states.region.unique()"
   ]
  },
  {
   "cell_type": "code",
   "execution_count": 22,
   "id": "a25949aa-eb53-4dcd-92e5-324c0a4fe434",
   "metadata": {
    "tags": []
   },
   "outputs": [
    {
     "data": {
      "text/plain": [
       "array([5, 3, 4, 1, 8, 9, 2, 7, 6, 0])"
      ]
     },
     "execution_count": 22,
     "metadata": {},
     "output_type": "execute_result"
    }
   ],
   "source": [
    "states.division.unique()"
   ]
  },
  {
   "cell_type": "code",
   "execution_count": 23,
   "id": "30ea6199-fab8-4547-af7b-50b86c3275da",
   "metadata": {
    "tags": []
   },
   "outputs": [
    {
     "data": {
      "text/plain": [
       "array([54, 12, 17, 27, 24, 44, 16, 33, 37, 50,  9, 10, 35,  6, 34, 55, 41,\n",
       "       31, 42, 53, 22, 13,  1, 49, 39, 48,  8, 45, 40, 47, 56, 15, 38, 21,\n",
       "       78, 69, 66, 23, 36, 32,  2, 60, 26,  5, 28, 29, 30, 20, 18, 72, 46,\n",
       "       25, 51, 11, 19,  4])"
      ]
     },
     "execution_count": 23,
     "metadata": {},
     "output_type": "execute_result"
    }
   ],
   "source": [
    "states.statefp.unique()"
   ]
  },
  {
   "cell_type": "markdown",
   "id": "a365c336-c978-4453-98c8-961a41da8001",
   "metadata": {},
   "source": [
    "Hawaii and Alaska have codes 2, 15 and then region 9 should also be excluded."
   ]
  },
  {
   "cell_type": "code",
   "execution_count": 24,
   "id": "f7381b0c-8192-45c9-b8e3-ecda5d1e3044",
   "metadata": {
    "tags": []
   },
   "outputs": [],
   "source": [
    "\n",
    "# Select contiguous US states\n",
    "contiguous = states[(states.region!=9) & (~states.statefp.isin([2,15]))]"
   ]
  },
  {
   "cell_type": "code",
   "execution_count": 25,
   "id": "b542e320-6404-4306-bc58-8dece1120bde",
   "metadata": {
    "tags": []
   },
   "outputs": [
    {
     "data": {
      "text/plain": [
       "<Axes: >"
      ]
     },
     "execution_count": 25,
     "metadata": {},
     "output_type": "execute_result"
    },
    {
     "data": {
      "image/png": "[encoded data removed]",
      "text/plain": [
       "<Figure size 640x480 with 1 Axes>"
      ]
     },
     "metadata": {},
     "output_type": "display_data"
    }
   ],
   "source": [
    "contiguous.plot()"
   ]
  },
  {
   "cell_type": "code",
   "execution_count": 26,
   "id": "77731cfb-52dd-47db-bac4-f486bd2e0e50",
   "metadata": {
    "tags": []
   },
   "outputs": [
    {
     "data": {
      "text/plain": [
       "True"
      ]
     },
     "execution_count": 26,
     "metadata": {},
     "output_type": "execute_result"
    }
   ],
   "source": [
    "contiguous.crs == power_plants.crs"
   ]
  },
  {
   "cell_type": "code",
   "execution_count": 27,
   "id": "d264ded4-d4a5-4f5a-b386-19c32b20eea2",
   "metadata": {
    "tags": []
   },
   "outputs": [
    {
     "data": {
      "image/png": "[encoded data removed]",
      "text/plain": [
       "<Figure size 900x500 with 1 Axes>"
      ]
     },
     "metadata": {},
     "output_type": "display_data"
    }
   ],
   "source": [
    "fig, ax = plt.subplots(figsize=(9,5))\n",
    "\n",
    "# Remove axis for a cleaner map\n",
    "ax.axis('off')\n",
    "\n",
    "contiguous.plot(ax=ax,\n",
    "               color='none',\n",
    "               edgecolor='gray')\n",
    "\n",
    "# Add electric power plants colored by energy source\n",
    "\n",
    "power_plants.plot(ax=ax,\n",
    "                 column='primsource',\n",
    "                 legend=True,\n",
    "                 markersize=4,\n",
    "                 cmap='tab20',\n",
    "                 alpha=0.5,\n",
    "                  legend_kwds={\n",
    "                      'title': 'Primary energy source',\n",
    "                      'title_fontsize':'small',\n",
    "                      'loc':'upper left',\n",
    "                      'bbox_to_anchor':(0,0)\n",
    "                  }\n",
    "                 )\n",
    "plt.show()"
   ]
  },
  {
   "cell_type": "markdown",
   "id": "b6acb5a2-3f86-46d8-831d-140d026aae5c",
   "metadata": {},
   "source": [
    "## `for` with `zip`\n",
    "\n",
    "Often, we need to iterate simultaneously over two lists (or iterables).\n",
    "\n",
    "`zip()` is a Python function that allows you to combine two lists so taht you can iterate over their elements in pairs.\n",
    "\n",
    "When used in a `for` loop it allows you to process elemetns of each list together.\n",
    "\n",
    "Example:\n"
   ]
  },
  {
   "cell_type": "code",
   "execution_count": 29,
   "id": "92665ecb-27bb-4e1a-bf17-3158bf977128",
   "metadata": {
    "tags": []
   },
   "outputs": [
    {
     "name": "stdout",
     "output_type": "stream",
     "text": [
      "1\n",
      "2\n",
      "3\n"
     ]
    }
   ],
   "source": [
    "# Iterate over a single list\n",
    "numbers = [1, 2, 3]\n",
    "for num in numbers:\n",
    "    print(num)"
   ]
  },
  {
   "cell_type": "code",
   "execution_count": 30,
   "id": "dec08a30-885b-4abc-99cc-d4a74137249d",
   "metadata": {
    "tags": []
   },
   "outputs": [
    {
     "name": "stdout",
     "output_type": "stream",
     "text": [
      "1 a\n",
      "2 b\n",
      "3 c\n"
     ]
    }
   ],
   "source": [
    "# Iterate over two lists in pairs using zip()\n",
    "letters = ['a', 'b', 'c']\n",
    "for num, letter in zip(numbers, letters):\n",
    "    print(num, letter)"
   ]
  },
  {
   "cell_type": "markdown",
   "id": "cd2fd3f4-1306-4fdb-a389-2372d6cbd9fc",
   "metadata": {},
   "source": [
    "Example: with `matplotlib`.\n",
    "A common situation when code gets repeated is when creating subplots."
   ]
  },
  {
   "cell_type": "code",
   "execution_count": 32,
   "id": "2531284e-f216-4819-83a1-8c92b7f5cc32",
   "metadata": {
    "tags": []
   },
   "outputs": [
    {
     "data": {
      "image/png": "[encoded data removed]",
      "text/plain": [
       "<Figure size 700x300 with 3 Axes>"
      ]
     },
     "metadata": {},
     "output_type": "display_data"
    }
   ],
   "source": [
    "fig, axes = plt.subplots(nrows = 1, ncols = 3, figsize = (7, 3))\n",
    "\n",
    "axes[0].set_title('This is axis 0')\n",
    "axes[1].set_title('This is axis 1')\n",
    "axes[2].set_title('This is axis 2')\n",
    "\n",
    "plt.show()"
   ]
  },
  {
   "cell_type": "code",
   "execution_count": 33,
   "id": "478e9383-bc9c-4e3d-a485-b085f0fe6089",
   "metadata": {
    "tags": []
   },
   "outputs": [
    {
     "data": {
      "text/plain": [
       "array([<Axes: title={'center': 'This is axis 0'}>,\n",
       "       <Axes: title={'center': 'This is axis 1'}>,\n",
       "       <Axes: title={'center': 'This is axis 2'}>], dtype=object)"
      ]
     },
     "execution_count": 33,
     "metadata": {},
     "output_type": "execute_result"
    }
   ],
   "source": [
    "axes"
   ]
  },
  {
   "cell_type": "markdown",
   "id": "5abd57e3-43a8-4060-9a24-64bee6553b7a",
   "metadata": {},
   "source": [
    "## Check-in\n",
    "\n",
    "Use `for` and `zip` to create the same subplots and avoid redundancy:"
   ]
  },
  {
   "cell_type": "code",
   "execution_count": 41,
   "id": "1aab8f37-f5a2-46eb-a160-fc70f3f3613c",
   "metadata": {
    "tags": []
   },
   "outputs": [
    {
     "data": {
      "image/png": "[encoded data removed]",
      "text/plain": [
       "<Figure size 700x300 with 3 Axes>"
      ]
     },
     "metadata": {},
     "output_type": "display_data"
    }
   ],
   "source": [
    "fig, axes = plt.subplots(nrows = 1, ncols = 3, figsize = (7, 3))\n",
    "\n",
    "\n",
    "for ax, i in zip(axes, [0,1,2]):\n",
    "    ax.set_title(f\"This is axis {i}\")"
   ]
  },
  {
   "cell_type": "code",
   "execution_count": 45,
   "id": "e3d52b8c-c025-4f42-b2c0-a7d1398896b9",
   "metadata": {},
   "outputs": [
    {
     "data": {
      "text/html": [
       "<div>\n",
       "<style scoped>\n",
       "    .dataframe tbody tr th:only-of-type {\n",
       "        vertical-align: middle;\n",
       "    }\n",
       "\n",
       "    .dataframe tbody tr th {\n",
       "        vertical-align: top;\n",
       "    }\n",
       "\n",
       "    .dataframe thead th {\n",
       "        text-align: right;\n",
       "    }\n",
       "</style>\n",
       "<table border=\"1\" class=\"dataframe\">\n",
       "  <thead>\n",
       "    <tr style=\"text-align: right;\">\n",
       "      <th></th>\n",
       "      <th>unnamed: 0</th>\n",
       "      <th>objectid</th>\n",
       "      <th>plant_code</th>\n",
       "      <th>plant_name</th>\n",
       "      <th>utility_id</th>\n",
       "      <th>utility_name</th>\n",
       "      <th>sector_name</th>\n",
       "      <th>street_address</th>\n",
       "      <th>city</th>\n",
       "      <th>county</th>\n",
       "      <th>state</th>\n",
       "      <th>zip</th>\n",
       "      <th>primsource</th>\n",
       "      <th>source_desc</th>\n",
       "      <th>tech_desc</th>\n",
       "      <th>install_mw</th>\n",
       "      <th>total_mw</th>\n",
       "      <th>bat_mw</th>\n",
       "      <th>bio_mw</th>\n",
       "      <th>coal_mw</th>\n",
       "      <th>geo_mw</th>\n",
       "      <th>hydro_mw</th>\n",
       "      <th>hydrops_mw</th>\n",
       "      <th>ng_mw</th>\n",
       "      <th>nuclear_mw</th>\n",
       "      <th>crude_mw</th>\n",
       "      <th>solar_mw</th>\n",
       "      <th>wind_mw</th>\n",
       "      <th>other_mw</th>\n",
       "      <th>source</th>\n",
       "      <th>period</th>\n",
       "      <th>longitude</th>\n",
       "      <th>latitude</th>\n",
       "      <th>geometry</th>\n",
       "    </tr>\n",
       "  </thead>\n",
       "  <tbody>\n",
       "    <tr>\n",
       "      <th>0</th>\n",
       "      <td>0.0</td>\n",
       "      <td>11570</td>\n",
       "      <td>1</td>\n",
       "      <td>Sand Point</td>\n",
       "      <td>63560</td>\n",
       "      <td>TDX Sand Point Generating, LLC</td>\n",
       "      <td>Electric Utility</td>\n",
       "      <td>100 Power Plant Way</td>\n",
       "      <td>Sand Point</td>\n",
       "      <td>Aleutians East</td>\n",
       "      <td>Alaska</td>\n",
       "      <td>99661.0</td>\n",
       "      <td>petroleum</td>\n",
       "      <td>Petroleum = 1.3 MW, Wind = 0.4 MW</td>\n",
       "      <td>Petroleum Liquids; Onshore Wind Turbine;</td>\n",
       "      <td>3.7</td>\n",
       "      <td>1.7</td>\n",
       "      <td>NaN</td>\n",
       "      <td>NaN</td>\n",
       "      <td>NaN</td>\n",
       "      <td>NaN</td>\n",
       "      <td>NaN</td>\n",
       "      <td>NaN</td>\n",
       "      <td>NaN</td>\n",
       "      <td>NaN</td>\n",
       "      <td>1.3</td>\n",
       "      <td>NaN</td>\n",
       "      <td>0.4</td>\n",
       "      <td>NaN</td>\n",
       "      <td>EIA-860, EIA-860M and EIA-923</td>\n",
       "      <td>202305.0</td>\n",
       "      <td>-160.497222</td>\n",
       "      <td>55.339722</td>\n",
       "      <td>POINT (-160.49722 55.33972)</td>\n",
       "    </tr>\n",
       "    <tr>\n",
       "      <th>1</th>\n",
       "      <td>1.0</td>\n",
       "      <td>11571</td>\n",
       "      <td>2</td>\n",
       "      <td>Bankhead Dam</td>\n",
       "      <td>195</td>\n",
       "      <td>Alabama Power Co</td>\n",
       "      <td>Electric Utility</td>\n",
       "      <td>19001 Lock 17 Road</td>\n",
       "      <td>Northport</td>\n",
       "      <td>Tuscaloosa</td>\n",
       "      <td>Alabama</td>\n",
       "      <td>35476.0</td>\n",
       "      <td>hydroelectric</td>\n",
       "      <td>Hydroelectric = 53 MW</td>\n",
       "      <td>Conventional Hydroelectric</td>\n",
       "      <td>53.9</td>\n",
       "      <td>53.0</td>\n",
       "      <td>NaN</td>\n",
       "      <td>NaN</td>\n",
       "      <td>NaN</td>\n",
       "      <td>NaN</td>\n",
       "      <td>53.0</td>\n",
       "      <td>NaN</td>\n",
       "      <td>NaN</td>\n",
       "      <td>NaN</td>\n",
       "      <td>NaN</td>\n",
       "      <td>NaN</td>\n",
       "      <td>NaN</td>\n",
       "      <td>NaN</td>\n",
       "      <td>EIA-860, EIA-860M and EIA-923</td>\n",
       "      <td>202305.0</td>\n",
       "      <td>-87.356823</td>\n",
       "      <td>33.458665</td>\n",
       "      <td>POINT (-87.35682 33.45867)</td>\n",
       "    </tr>\n",
       "    <tr>\n",
       "      <th>2</th>\n",
       "      <td>2.0</td>\n",
       "      <td>11572</td>\n",
       "      <td>3</td>\n",
       "      <td>Barry</td>\n",
       "      <td>195</td>\n",
       "      <td>Alabama Power Co</td>\n",
       "      <td>Electric Utility</td>\n",
       "      <td>North Highway 43</td>\n",
       "      <td>Bucks</td>\n",
       "      <td>Mobile</td>\n",
       "      <td>Alabama</td>\n",
       "      <td>36512.0</td>\n",
       "      <td>natural gas</td>\n",
       "      <td>Coal = 1118.5 MW, Natural Gas = 1296.2 MW</td>\n",
       "      <td>Conventional Steam Coal; Natural Gas Fired Com...</td>\n",
       "      <td>2569.5</td>\n",
       "      <td>2414.7</td>\n",
       "      <td>NaN</td>\n",
       "      <td>NaN</td>\n",
       "      <td>1118.5</td>\n",
       "      <td>NaN</td>\n",
       "      <td>NaN</td>\n",
       "      <td>NaN</td>\n",
       "      <td>1296.2</td>\n",
       "      <td>NaN</td>\n",
       "      <td>NaN</td>\n",
       "      <td>NaN</td>\n",
       "      <td>NaN</td>\n",
       "      <td>NaN</td>\n",
       "      <td>EIA-860, EIA-860M and EIA-923</td>\n",
       "      <td>202305.0</td>\n",
       "      <td>-88.010300</td>\n",
       "      <td>31.006900</td>\n",
       "      <td>POINT (-88.01030 31.00690)</td>\n",
       "    </tr>\n",
       "  </tbody>\n",
       "</table>\n",
       "</div>"
      ],
      "text/plain": [
       "   unnamed: 0 objectid plant_code    plant_name utility_id  \\\n",
       "0         0.0    11570          1    Sand Point      63560   \n",
       "1         1.0    11571          2  Bankhead Dam        195   \n",
       "2         2.0    11572          3         Barry        195   \n",
       "\n",
       "                     utility_name       sector_name       street_address  \\\n",
       "0  TDX Sand Point Generating, LLC  Electric Utility  100 Power Plant Way   \n",
       "1                Alabama Power Co  Electric Utility   19001 Lock 17 Road   \n",
       "2                Alabama Power Co  Electric Utility     North Highway 43   \n",
       "\n",
       "         city          county    state      zip     primsource  \\\n",
       "0  Sand Point  Aleutians East   Alaska  99661.0      petroleum   \n",
       "1   Northport      Tuscaloosa  Alabama  35476.0  hydroelectric   \n",
       "2       Bucks          Mobile  Alabama  36512.0    natural gas   \n",
       "\n",
       "                                 source_desc  \\\n",
       "0          Petroleum = 1.3 MW, Wind = 0.4 MW   \n",
       "1                      Hydroelectric = 53 MW   \n",
       "2  Coal = 1118.5 MW, Natural Gas = 1296.2 MW   \n",
       "\n",
       "                                           tech_desc  install_mw  total_mw  \\\n",
       "0           Petroleum Liquids; Onshore Wind Turbine;         3.7       1.7   \n",
       "1                         Conventional Hydroelectric        53.9      53.0   \n",
       "2  Conventional Steam Coal; Natural Gas Fired Com...      2569.5    2414.7   \n",
       "\n",
       "   bat_mw  bio_mw  coal_mw  geo_mw  hydro_mw  hydrops_mw   ng_mw nuclear_mw  \\\n",
       "0     NaN     NaN      NaN     NaN       NaN         NaN     NaN        NaN   \n",
       "1     NaN     NaN      NaN     NaN      53.0         NaN     NaN        NaN   \n",
       "2     NaN     NaN   1118.5     NaN       NaN         NaN  1296.2        NaN   \n",
       "\n",
       "   crude_mw  solar_mw  wind_mw  other_mw                         source  \\\n",
       "0       1.3       NaN      0.4       NaN  EIA-860, EIA-860M and EIA-923   \n",
       "1       NaN       NaN      NaN       NaN  EIA-860, EIA-860M and EIA-923   \n",
       "2       NaN       NaN      NaN       NaN  EIA-860, EIA-860M and EIA-923   \n",
       "\n",
       "     period   longitude   latitude                     geometry  \n",
       "0  202305.0 -160.497222  55.339722  POINT (-160.49722 55.33972)  \n",
       "1  202305.0  -87.356823  33.458665   POINT (-87.35682 33.45867)  \n",
       "2  202305.0  -88.010300  31.006900   POINT (-88.01030 31.00690)  "
      ]
     },
     "execution_count": 45,
     "metadata": {},
     "output_type": "execute_result"
    }
   ],
   "source": [
    "power_plants.head(3)"
   ]
  },
  {
   "cell_type": "code",
   "execution_count": 46,
   "id": "f386388e-aac7-4c94-83f8-d5b359d0fe5f",
   "metadata": {
    "tags": []
   },
   "outputs": [
    {
     "data": {
      "text/html": [
       "<div>\n",
       "<style scoped>\n",
       "    .dataframe tbody tr th:only-of-type {\n",
       "        vertical-align: middle;\n",
       "    }\n",
       "\n",
       "    .dataframe tbody tr th {\n",
       "        vertical-align: top;\n",
       "    }\n",
       "\n",
       "    .dataframe thead th {\n",
       "        text-align: right;\n",
       "    }\n",
       "</style>\n",
       "<table border=\"1\" class=\"dataframe\">\n",
       "  <thead>\n",
       "    <tr style=\"text-align: right;\">\n",
       "      <th></th>\n",
       "      <th>region</th>\n",
       "      <th>division</th>\n",
       "      <th>statefp</th>\n",
       "      <th>statens</th>\n",
       "      <th>geoid</th>\n",
       "      <th>stusps</th>\n",
       "      <th>name</th>\n",
       "      <th>lsad</th>\n",
       "      <th>mtfcc</th>\n",
       "      <th>funcstat</th>\n",
       "      <th>aland</th>\n",
       "      <th>awater</th>\n",
       "      <th>intptlat</th>\n",
       "      <th>intptlon</th>\n",
       "      <th>geometry</th>\n",
       "    </tr>\n",
       "  </thead>\n",
       "  <tbody>\n",
       "    <tr>\n",
       "      <th>0</th>\n",
       "      <td>3</td>\n",
       "      <td>5</td>\n",
       "      <td>54</td>\n",
       "      <td>01779805</td>\n",
       "      <td>54</td>\n",
       "      <td>WV</td>\n",
       "      <td>West Virginia</td>\n",
       "      <td>00</td>\n",
       "      <td>G4000</td>\n",
       "      <td>A</td>\n",
       "      <td>62266456923</td>\n",
       "      <td>489045863</td>\n",
       "      <td>+38.6472854</td>\n",
       "      <td>-080.6183274</td>\n",
       "      <td>POLYGON ((-77.75438 39.33346, -77.75422 39.333...</td>\n",
       "    </tr>\n",
       "    <tr>\n",
       "      <th>1</th>\n",
       "      <td>3</td>\n",
       "      <td>5</td>\n",
       "      <td>12</td>\n",
       "      <td>00294478</td>\n",
       "      <td>12</td>\n",
       "      <td>FL</td>\n",
       "      <td>Florida</td>\n",
       "      <td>00</td>\n",
       "      <td>G4000</td>\n",
       "      <td>A</td>\n",
       "      <td>138962819934</td>\n",
       "      <td>45971472526</td>\n",
       "      <td>+28.3989775</td>\n",
       "      <td>-082.5143005</td>\n",
       "      <td>MULTIPOLYGON (((-83.10874 24.62949, -83.10711 ...</td>\n",
       "    </tr>\n",
       "    <tr>\n",
       "      <th>2</th>\n",
       "      <td>2</td>\n",
       "      <td>3</td>\n",
       "      <td>17</td>\n",
       "      <td>01779784</td>\n",
       "      <td>17</td>\n",
       "      <td>IL</td>\n",
       "      <td>Illinois</td>\n",
       "      <td>00</td>\n",
       "      <td>G4000</td>\n",
       "      <td>A</td>\n",
       "      <td>143778515726</td>\n",
       "      <td>6216539665</td>\n",
       "      <td>+40.1028754</td>\n",
       "      <td>-089.1526108</td>\n",
       "      <td>POLYGON ((-87.89243 38.28285, -87.89334 38.282...</td>\n",
       "    </tr>\n",
       "  </tbody>\n",
       "</table>\n",
       "</div>"
      ],
      "text/plain": [
       "   region  division  statefp   statens geoid stusps           name lsad  \\\n",
       "0       3         5       54  01779805    54     WV  West Virginia   00   \n",
       "1       3         5       12  00294478    12     FL        Florida   00   \n",
       "2       2         3       17  01779784    17     IL       Illinois   00   \n",
       "\n",
       "   mtfcc funcstat         aland       awater     intptlat      intptlon  \\\n",
       "0  G4000        A   62266456923    489045863  +38.6472854  -080.6183274   \n",
       "1  G4000        A  138962819934  45971472526  +28.3989775  -082.5143005   \n",
       "2  G4000        A  143778515726   6216539665  +40.1028754  -089.1526108   \n",
       "\n",
       "                                            geometry  \n",
       "0  POLYGON ((-77.75438 39.33346, -77.75422 39.333...  \n",
       "1  MULTIPOLYGON (((-83.10874 24.62949, -83.10711 ...  \n",
       "2  POLYGON ((-87.89243 38.28285, -87.89334 38.282...  "
      ]
     },
     "execution_count": 46,
     "metadata": {},
     "output_type": "execute_result"
    }
   ],
   "source": [
    "states.head(3)"
   ]
  },
  {
   "cell_type": "markdown",
   "id": "6cfa404d-9b78-4869-b050-44e177a6a367",
   "metadata": {},
   "source": [
    "## Exercise\n",
    "\n",
    "1. Select the power plants in California in a variable names `ca_power_plants`.\n",
    "2. Create a list named top_sources with California’s top 3 electric primary sources.\n",
    "3. Isolate the California state boundary in a variable named ca_boundary.\n",
    "4. Recreate the plot in notes"
   ]
  },
  {
   "cell_type": "code",
   "execution_count": 65,
   "id": "73e45fd3-c06f-4512-a892-5739cd995b02",
   "metadata": {
    "tags": []
   },
   "outputs": [
    {
     "data": {
      "text/html": [
       "<div>\n",
       "<style scoped>\n",
       "    .dataframe tbody tr th:only-of-type {\n",
       "        vertical-align: middle;\n",
       "    }\n",
       "\n",
       "    .dataframe tbody tr th {\n",
       "        vertical-align: top;\n",
       "    }\n",
       "\n",
       "    .dataframe thead th {\n",
       "        text-align: right;\n",
       "    }\n",
       "</style>\n",
       "<table border=\"1\" class=\"dataframe\">\n",
       "  <thead>\n",
       "    <tr style=\"text-align: right;\">\n",
       "      <th></th>\n",
       "      <th>unnamed: 0</th>\n",
       "      <th>objectid</th>\n",
       "      <th>plant_code</th>\n",
       "      <th>plant_name</th>\n",
       "      <th>utility_id</th>\n",
       "      <th>utility_name</th>\n",
       "      <th>sector_name</th>\n",
       "      <th>street_address</th>\n",
       "      <th>city</th>\n",
       "      <th>county</th>\n",
       "      <th>state</th>\n",
       "      <th>zip</th>\n",
       "      <th>primsource</th>\n",
       "      <th>source_desc</th>\n",
       "      <th>tech_desc</th>\n",
       "      <th>install_mw</th>\n",
       "      <th>total_mw</th>\n",
       "      <th>bat_mw</th>\n",
       "      <th>bio_mw</th>\n",
       "      <th>coal_mw</th>\n",
       "      <th>geo_mw</th>\n",
       "      <th>hydro_mw</th>\n",
       "      <th>hydrops_mw</th>\n",
       "      <th>ng_mw</th>\n",
       "      <th>nuclear_mw</th>\n",
       "      <th>crude_mw</th>\n",
       "      <th>solar_mw</th>\n",
       "      <th>wind_mw</th>\n",
       "      <th>other_mw</th>\n",
       "      <th>source</th>\n",
       "      <th>period</th>\n",
       "      <th>longitude</th>\n",
       "      <th>latitude</th>\n",
       "      <th>geometry</th>\n",
       "    </tr>\n",
       "  </thead>\n",
       "  <tbody>\n",
       "    <tr>\n",
       "      <th>19</th>\n",
       "      <td>19.0</td>\n",
       "      <td>11589</td>\n",
       "      <td>34</td>\n",
       "      <td>Rollins</td>\n",
       "      <td>13402</td>\n",
       "      <td>Nevada Irrigation District</td>\n",
       "      <td>IPP Non-CHP</td>\n",
       "      <td>15531 Arrow Head Lane</td>\n",
       "      <td>Colfax</td>\n",
       "      <td>Placer</td>\n",
       "      <td>California</td>\n",
       "      <td>95713.0</td>\n",
       "      <td>hydroelectric</td>\n",
       "      <td>Hydroelectric = 12.1 MW</td>\n",
       "      <td>Conventional Hydroelectric</td>\n",
       "      <td>12.1</td>\n",
       "      <td>12.1</td>\n",
       "      <td>NaN</td>\n",
       "      <td>NaN</td>\n",
       "      <td>NaN</td>\n",
       "      <td>NaN</td>\n",
       "      <td>12.1</td>\n",
       "      <td>NaN</td>\n",
       "      <td>NaN</td>\n",
       "      <td>NaN</td>\n",
       "      <td>NaN</td>\n",
       "      <td>NaN</td>\n",
       "      <td>NaN</td>\n",
       "      <td>NaN</td>\n",
       "      <td>EIA-860, EIA-860M and EIA-923</td>\n",
       "      <td>202305.0</td>\n",
       "      <td>-120.953341</td>\n",
       "      <td>39.134259</td>\n",
       "      <td>POINT (-120.95334 39.13426)</td>\n",
       "    </tr>\n",
       "    <tr>\n",
       "      <th>38</th>\n",
       "      <td>38.0</td>\n",
       "      <td>11608</td>\n",
       "      <td>72</td>\n",
       "      <td>Venice Hydro</td>\n",
       "      <td>12397</td>\n",
       "      <td>Metropolitan Water District of S CA</td>\n",
       "      <td>Electric Utility</td>\n",
       "      <td>3815 Sepulveda Blvd</td>\n",
       "      <td>Culver City</td>\n",
       "      <td>Los Angeles</td>\n",
       "      <td>California</td>\n",
       "      <td>90230.0</td>\n",
       "      <td>hydroelectric</td>\n",
       "      <td>Hydroelectric = 10.1 MW</td>\n",
       "      <td>Conventional Hydroelectric</td>\n",
       "      <td>10.1</td>\n",
       "      <td>10.1</td>\n",
       "      <td>NaN</td>\n",
       "      <td>NaN</td>\n",
       "      <td>NaN</td>\n",
       "      <td>NaN</td>\n",
       "      <td>10.1</td>\n",
       "      <td>NaN</td>\n",
       "      <td>NaN</td>\n",
       "      <td>NaN</td>\n",
       "      <td>NaN</td>\n",
       "      <td>NaN</td>\n",
       "      <td>NaN</td>\n",
       "      <td>NaN</td>\n",
       "      <td>EIA-860, EIA-860M and EIA-923</td>\n",
       "      <td>202305.0</td>\n",
       "      <td>-118.416800</td>\n",
       "      <td>34.011350</td>\n",
       "      <td>POINT (-118.41680 34.01135)</td>\n",
       "    </tr>\n",
       "    <tr>\n",
       "      <th>54</th>\n",
       "      <td>54.0</td>\n",
       "      <td>11624</td>\n",
       "      <td>104</td>\n",
       "      <td>J S Eastwood</td>\n",
       "      <td>17609</td>\n",
       "      <td>Southern California Edison Co</td>\n",
       "      <td>Electric Utility</td>\n",
       "      <td>Hwy 168 Sierra National Forest</td>\n",
       "      <td>Shaver Lake</td>\n",
       "      <td>Fresno</td>\n",
       "      <td>California</td>\n",
       "      <td>93664.0</td>\n",
       "      <td>pumped storage</td>\n",
       "      <td>Pumped Storage = 199.8 MW</td>\n",
       "      <td>Hydroelectric Pumped Storage</td>\n",
       "      <td>199.8</td>\n",
       "      <td>199.8</td>\n",
       "      <td>NaN</td>\n",
       "      <td>NaN</td>\n",
       "      <td>NaN</td>\n",
       "      <td>NaN</td>\n",
       "      <td>NaN</td>\n",
       "      <td>199.8</td>\n",
       "      <td>NaN</td>\n",
       "      <td>NaN</td>\n",
       "      <td>NaN</td>\n",
       "      <td>NaN</td>\n",
       "      <td>NaN</td>\n",
       "      <td>NaN</td>\n",
       "      <td>EIA-860, EIA-860M and EIA-923</td>\n",
       "      <td>202305.0</td>\n",
       "      <td>-119.256700</td>\n",
       "      <td>37.147926</td>\n",
       "      <td>POINT (-119.25670 37.14793)</td>\n",
       "    </tr>\n",
       "  </tbody>\n",
       "</table>\n",
       "</div>"
      ],
      "text/plain": [
       "    unnamed: 0 objectid plant_code    plant_name utility_id  \\\n",
       "19        19.0    11589         34       Rollins      13402   \n",
       "38        38.0    11608         72  Venice Hydro      12397   \n",
       "54        54.0    11624        104  J S Eastwood      17609   \n",
       "\n",
       "                           utility_name       sector_name  \\\n",
       "19           Nevada Irrigation District       IPP Non-CHP   \n",
       "38  Metropolitan Water District of S CA  Electric Utility   \n",
       "54        Southern California Edison Co  Electric Utility   \n",
       "\n",
       "                    street_address         city       county       state  \\\n",
       "19           15531 Arrow Head Lane       Colfax       Placer  California   \n",
       "38             3815 Sepulveda Blvd  Culver City  Los Angeles  California   \n",
       "54  Hwy 168 Sierra National Forest  Shaver Lake       Fresno  California   \n",
       "\n",
       "        zip      primsource                source_desc  \\\n",
       "19  95713.0   hydroelectric    Hydroelectric = 12.1 MW   \n",
       "38  90230.0   hydroelectric    Hydroelectric = 10.1 MW   \n",
       "54  93664.0  pumped storage  Pumped Storage = 199.8 MW   \n",
       "\n",
       "                       tech_desc  install_mw  total_mw  bat_mw  bio_mw  \\\n",
       "19    Conventional Hydroelectric        12.1      12.1     NaN     NaN   \n",
       "38    Conventional Hydroelectric        10.1      10.1     NaN     NaN   \n",
       "54  Hydroelectric Pumped Storage       199.8     199.8     NaN     NaN   \n",
       "\n",
       "    coal_mw  geo_mw  hydro_mw  hydrops_mw  ng_mw nuclear_mw  crude_mw  \\\n",
       "19      NaN     NaN      12.1         NaN    NaN        NaN       NaN   \n",
       "38      NaN     NaN      10.1         NaN    NaN        NaN       NaN   \n",
       "54      NaN     NaN       NaN       199.8    NaN        NaN       NaN   \n",
       "\n",
       "    solar_mw  wind_mw  other_mw                         source    period  \\\n",
       "19       NaN      NaN       NaN  EIA-860, EIA-860M and EIA-923  202305.0   \n",
       "38       NaN      NaN       NaN  EIA-860, EIA-860M and EIA-923  202305.0   \n",
       "54       NaN      NaN       NaN  EIA-860, EIA-860M and EIA-923  202305.0   \n",
       "\n",
       "     longitude   latitude                     geometry  \n",
       "19 -120.953341  39.134259  POINT (-120.95334 39.13426)  \n",
       "38 -118.416800  34.011350  POINT (-118.41680 34.01135)  \n",
       "54 -119.256700  37.147926  POINT (-119.25670 37.14793)  "
      ]
     },
     "execution_count": 65,
     "metadata": {},
     "output_type": "execute_result"
    }
   ],
   "source": [
    "ca_power_plants = power_plants[power_plants['state'] == 'California']\n",
    "ca_power_plants.head(3)"
   ]
  },
  {
   "cell_type": "code",
   "execution_count": 67,
   "id": "480ba217-7316-49e7-b2f2-e226f3183d06",
   "metadata": {
    "tags": []
   },
   "outputs": [
    {
     "data": {
      "text/plain": [
       "['solar', 'natural gas', 'hydroelectric']"
      ]
     },
     "execution_count": 67,
     "metadata": {},
     "output_type": "execute_result"
    }
   ],
   "source": [
    "# top_sources with California’s top 3 electric primary sources\n",
    "top_sources = ca_power_plants.groupby('primsource').agg(count=('primsource', 'count')).reset_index().sort_values('count', ascending=False).head(3)\n",
    "top_sources = top_sources['primsource'].tolist()\n",
    "top_sources"
   ]
  },
  {
   "cell_type": "code",
   "execution_count": 74,
   "id": "7a50dd89-ac29-463d-a7e5-97385bc0e4c8",
   "metadata": {
    "tags": []
   },
   "outputs": [
    {
     "data": {
      "text/plain": [
       "['solar', 'natural gas', 'hydroelectric']"
      ]
     },
     "execution_count": 74,
     "metadata": {},
     "output_type": "execute_result"
    }
   ],
   "source": [
    "# Another method:\n",
    "top_sources = ca_power_plants.primsource.value_counts().index[:3].to_list()\n",
    "top_sources"
   ]
  },
  {
   "cell_type": "code",
   "execution_count": 73,
   "id": "2adfedbd-0e3b-4f1a-80f5-1a5cf8deb92e",
   "metadata": {
    "tags": []
   },
   "outputs": [
    {
     "data": {
      "text/plain": [
       "(-124.99954260000001, -113.61367139999999, 32.05479845, 42.483536550000004)"
      ]
     },
     "execution_count": 73,
     "metadata": {},
     "output_type": "execute_result"
    },
    {
     "data": {
      "image/png": "[encoded data removed]",
      "text/plain": [
       "<Figure size 600x300 with 3 Axes>"
      ]
     },
     "metadata": {},
     "output_type": "display_data"
    }
   ],
   "source": [
    "ca_boundary = states[states.name=='California']\n",
    "\n",
    "# Create plot\n",
    "fig, axes = plt.subplots(nrows=1, ncols=3, figsize=(6, 3))\n",
    "\n",
    "for ax, source in zip(axes, top_sources):\n",
    "    ca_boundary.plot(ax=ax, color='none')\n",
    "    \n",
    "    #Select points for the sources\n",
    "    subset = ca_power_plants[ca_power_plants.primsource == source]\n",
    "    subset.plot(ax=ax,\n",
    "               markersize=0.5)\n",
    "ax.set_title(source)\n",
    "ax.axis('off')"
   ]
  },
  {
   "cell_type": "markdown",
   "id": "57def66b-5720-40de-a507-034ebb7ba403",
   "metadata": {},
   "source": [
    "## Functions\n",
    "\n",
    "**functions** in Python are blocks of reusable code designed to perform specific tasks, and make your code more modular and organzied.\n",
    "\n",
    "The general syntax:\n",
    "\n",
    "```python\n",
    "def function_name(paramenter_1,..., parameter_n ):\n",
    "    \"\"\"Docstring\"\"\"\n",
    "    <body of the function>\n",
    "    return value # Depends on the function\n",
    "```\n",
    "\n",
    "Examples:\n",
    "A simple function with a one-line docstring and no return values."
   ]
  },
  {
   "cell_type": "code",
   "execution_count": 75,
   "id": "5beaee39-7cc6-491a-a9cc-0d38e839d27c",
   "metadata": {
    "tags": []
   },
   "outputs": [],
   "source": [
    "def greet():\n",
    "    \"\"\"Print a greeting message\"\"\"\n",
    "    print('Hello, welcome to the class!')"
   ]
  },
  {
   "cell_type": "code",
   "execution_count": 76,
   "id": "95e230c2-52e1-46c2-bde8-ea1273e1c1a3",
   "metadata": {
    "tags": []
   },
   "outputs": [
    {
     "name": "stdout",
     "output_type": "stream",
     "text": [
      "Hello, welcome to the class!\n"
     ]
    }
   ],
   "source": [
    "greet()"
   ]
  },
  {
   "cell_type": "markdown",
   "id": "0d5b1ac2-ad97-40a3-b1f9-6b9503275a4f",
   "metadata": {},
   "source": [
    "Example 2:\n",
    "a function with a more detailed docstring and a return value"
   ]
  },
  {
   "cell_type": "code",
   "execution_count": 82,
   "id": "8d3bfe74-870b-42b1-a8e4-853edcbfcffe",
   "metadata": {
    "tags": []
   },
   "outputs": [],
   "source": [
    "def circle_area(radius):\n",
    "    \"\"\"\n",
    "    Calculate the area of a circle given its radius.\n",
    "    \n",
    "    Args:\n",
    "        radius (float): The radius of the circle\n",
    "    Returns:\n",
    "        Float: The area of the circle, calculated as pi * radisu^2\n",
    "    \"\"\"\n",
    "    area = 3.14159 * radius ** 2\n",
    "    return area"
   ]
  },
  {
   "cell_type": "code",
   "execution_count": 83,
   "id": "5f512bf1-3a15-4c18-a146-7a07ad151d7e",
   "metadata": {
    "tags": []
   },
   "outputs": [
    {
     "data": {
      "text/plain": [
       "12.56636"
      ]
     },
     "execution_count": 83,
     "metadata": {},
     "output_type": "execute_result"
    }
   ],
   "source": [
    "circle_area(2)"
   ]
  },
  {
   "cell_type": "markdown",
   "id": "17970c60-a251-425a-b030-bc11b30331ae",
   "metadata": {},
   "source": [
    "## Example\n",
    "\n",
    "Going back to our power_plants data frame, let's create a function that will give us the top 3 primary energy sources for a given state."
   ]
  },
  {
   "cell_type": "code",
   "execution_count": 109,
   "id": "c694d132-18e0-4ab7-a0b1-623ac44aaf98",
   "metadata": {
    "tags": []
   },
   "outputs": [],
   "source": [
    "def top3_sources(state):\n",
    "    state_power_plants = power_plants[power_plants.state == state]\n",
    "    top_sources = state_power_plants.primsource.value_counts().index[:3].to_list()\n",
    "    return top_sources"
   ]
  },
  {
   "cell_type": "code",
   "execution_count": 110,
   "id": "489e6ae3-1832-41b8-88f7-f9b62f69efe0",
   "metadata": {
    "tags": []
   },
   "outputs": [
    {
     "data": {
      "text/plain": [
       "['solar', 'hydroelectric', 'natural gas']"
      ]
     },
     "execution_count": 110,
     "metadata": {},
     "output_type": "execute_result"
    }
   ],
   "source": [
    "top3_sources('New York')"
   ]
  },
  {
   "cell_type": "code",
   "execution_count": 111,
   "id": "5716a0ac-5fba-421a-aaf7-b3a9af072018",
   "metadata": {
    "tags": []
   },
   "outputs": [
    {
     "data": {
      "text/plain": [
       "['solar', 'natural gas', 'biomass']"
      ]
     },
     "execution_count": 111,
     "metadata": {},
     "output_type": "execute_result"
    }
   ],
   "source": [
    "top3_sources('Florida')"
   ]
  },
  {
   "cell_type": "code",
   "execution_count": 112,
   "id": "5e141121-19ff-4a0b-a8b7-8f3de558e4a0",
   "metadata": {
    "tags": []
   },
   "outputs": [
    {
     "data": {
      "text/plain": [
       "['hydroelectric', 'wind', 'natural gas']"
      ]
     },
     "execution_count": 112,
     "metadata": {},
     "output_type": "execute_result"
    }
   ],
   "source": [
    "top3_sources('Washington')"
   ]
  },
  {
   "cell_type": "code",
   "execution_count": 113,
   "id": "21984896-c83d-4111-8337-874a687578db",
   "metadata": {
    "tags": []
   },
   "outputs": [
    {
     "data": {
      "text/plain": [
       "['natural gas', 'wind', 'solar']"
      ]
     },
     "execution_count": 113,
     "metadata": {},
     "output_type": "execute_result"
    }
   ],
   "source": [
    "top3_sources('Texas')"
   ]
  },
  {
   "cell_type": "markdown",
   "id": "57032f42-492f-475f-8040-aec71c148626",
   "metadata": {},
   "source": [
    "## Check-in\n",
    "Write a function states_with_source that takes a primary energy source (e.g., ‘solar’) and returns a list of states that use that source."
   ]
  },
  {
   "cell_type": "code",
   "execution_count": null,
   "id": "7fc55667-b531-4e50-88da-3807ecfb22cd",
   "metadata": {},
   "outputs": [],
   "source": []
  }
 ],
 "metadata": {
  "kernelspec": {
   "display_name": "Anaconda 3 (EDS220)",
   "language": "python",
   "name": "eds220-env"
  },
  "language_info": {
   "codemirror_mode": {
    "name": "ipython",
    "version": 3
   },
   "file_extension": ".py",
   "mimetype": "text/x-python",
   "name": "python",
   "nbconvert_exporter": "python",
   "pygments_lexer": "ipython3",
   "version": "3.11.4"
  }
 },
 "nbformat": 4,
 "nbformat_minor": 5
}
